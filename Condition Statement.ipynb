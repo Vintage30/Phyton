{
 "cells": [
  {
   "cell_type": "markdown",
   "id": "eb575883",
   "metadata": {},
   "source": [
    "Simple_IF"
   ]
  },
  {
   "cell_type": "code",
   "execution_count": 8,
   "id": "94eb5187",
   "metadata": {},
   "outputs": [
    {
     "name": "stdout",
     "output_type": "stream",
     "text": [
      "Enter the value of A : 10\n",
      "Enter the value of B : 5\n",
      "A is greater than B\n"
     ]
    }
   ],
   "source": [
    "a = int(input(\"Enter the value of A : \"))\n",
    "b = int(input(\"Enter the value of B : \"))\n",
    "if(a>b):\n",
    "    print(\"A is greater than B\")"
   ]
  },
  {
   "cell_type": "markdown",
   "id": "89e7221a",
   "metadata": {},
   "source": [
    "If_Else"
   ]
  },
  {
   "cell_type": "code",
   "execution_count": 4,
   "id": "182d44a1",
   "metadata": {},
   "outputs": [
    {
     "name": "stdout",
     "output_type": "stream",
     "text": [
      "Enter the value of A : 10\n",
      "Enter the value of B : 20\n",
      "B is greater than A\n"
     ]
    }
   ],
   "source": [
    "a = int(input(\"Enter the value of A : \"))\n",
    "b = int(input(\"Enter the value of B : \"))\n",
    "\n",
    "if(a>b):\n",
    "    print(\"A is greater than B\")\n",
    "else:\n",
    "    print(\"B is greater than A\")\n",
    "    "
   ]
  },
  {
   "cell_type": "markdown",
   "id": "de2e36e8",
   "metadata": {},
   "source": [
    "Odd and Even"
   ]
  },
  {
   "cell_type": "code",
   "execution_count": 9,
   "id": "7b56750e",
   "metadata": {},
   "outputs": [
    {
     "name": "stdout",
     "output_type": "stream",
     "text": [
      "Value : 5\n",
      "5  : Odd Number\n"
     ]
    }
   ],
   "source": [
    "value1 = int(input(\"Value : \"))\n",
    "if(value1%2==0):\n",
    "    print(value1, \" : Even Number\")\n",
    "else:\n",
    "    print(value1, \" : Odd Number\")"
   ]
  },
  {
   "cell_type": "markdown",
   "id": "6e21bce8",
   "metadata": {},
   "source": [
    "IF_ELSE LADDER"
   ]
  },
  {
   "cell_type": "code",
   "execution_count": 14,
   "id": "2ef2fdc9",
   "metadata": {},
   "outputs": [
    {
     "name": "stdout",
     "output_type": "stream",
     "text": [
      "Enter the value of A : 10\n",
      "Enter the value of B : 15\n",
      "Enter the value of C : 20\n",
      "C is greater than A and B\n"
     ]
    }
   ],
   "source": [
    "a = int(input(\"Enter the value of A : \"))\n",
    "b = int(input(\"Enter the value of B : \"))\n",
    "c = int(input(\"Enter the value of C : \"))\n",
    "\n",
    "if(a>b and a>c):\n",
    "    print(\"A is greater than B and C\")\n",
    "elif(b>a and b>c):\n",
    "    print(\"B is greater than A and C\")\n",
    "elif(c>a and c>b):\n",
    "    print(\"C is greater than A and B\")"
   ]
  },
  {
   "cell_type": "markdown",
   "id": "561c012d",
   "metadata": {},
   "source": [
    "Percentage"
   ]
  },
  {
   "cell_type": "code",
   "execution_count": 23,
   "id": "9dd12bc8",
   "metadata": {},
   "outputs": [
    {
     "name": "stdout",
     "output_type": "stream",
     "text": [
      "Enter the Percentage : 65\n",
      "You are a 1st Class\n"
     ]
    }
   ],
   "source": [
    "Pre = float(input(\"Enter the Percentage : \"))\n",
    "\n",
    "if(Pre>=70):\n",
    "    print(\"You are a Dist\")\n",
    "    \n",
    "elif(Pre>=65 and Pre<70):\n",
    "    print(\"You are a 1st Class\")\n",
    "    \n",
    "elif(Pre>=60 and Pre<65):\n",
    "    print(\"You are a 2nd Class\")\n",
    "    \n",
    "elif(Pre>=55 and Pre<60):\n",
    "    print(\"You are a 3rd Class\")\n",
    "    \n",
    "else:\n",
    "    print(\"You Failed\")"
   ]
  },
  {
   "cell_type": "markdown",
   "id": "631fc83b",
   "metadata": {},
   "source": [
    "Nested IF"
   ]
  },
  {
   "cell_type": "code",
   "execution_count": 45,
   "id": "2158b25d",
   "metadata": {},
   "outputs": [
    {
     "name": "stdout",
     "output_type": "stream",
     "text": [
      "Enter Your Age :51\n",
      "Enter Your Weight :59\n",
      "You are qualified to Donate Blood\n"
     ]
    }
   ],
   "source": [
    "age = int(input(\"Enter Your Age :\"))\n",
    "if(age>18):\n",
    "    weight = float(input(\"Enter Your Weight :\"))\n",
    "    if(weight>=50):\n",
    "        print(\"You are qualified to Donate Blood\")\n",
    "    else:\n",
    "        print(\"Under Weight\")\n",
    "else:\n",
    "    print(\"You are Under age\")\n",
    "\n",
    "    \n",
    "\n",
    "\n",
    "\n"
   ]
  },
  {
   "cell_type": "markdown",
   "id": "82ab31c1",
   "metadata": {},
   "source": [
    "Pizza App\n",
    "\n",
    "Note -- User should have 4 wheeler then only user can buy\n",
    "\n",
    "Small -- Buy 4 small pizza offer is 500 ml coke free\n",
    "Medium -- Buy 3 medium pizza offer is 1ltr coke free\n",
    "Large -- Buy 2 large pizza offer is 1 ice-cream with browine free\n",
    "Monster -- Buy 1 monster pizza offer is 1 small pizza and 500 ml coke free\n",
    "\n",
    "\n",
    "User Input:\n",
    "\n",
    "Wheeler == Yes/No\n",
    "Size == String\n",
    "qty = int\n",
    "\n",
    "Note == After size only it should ask for qty"
   ]
  },
  {
   "cell_type": "code",
   "execution_count": 60,
   "id": "81617924",
   "metadata": {},
   "outputs": [
    {
     "name": "stdout",
     "output_type": "stream",
     "text": [
      "Do you have a four wheeler?yes\n",
      "Buy 4 small pizza offer is 500ml coke free Medium\n"
     ]
    }
   ],
   "source": [
    "a = input(\"Do you have a four wheeler?\")\n",
    "\n",
    "if(a):\n",
    "    print(\"Buy 4 small pizza offer is 500ml coke free Medium\",\n",
    "              \"Buy 3 medium pizza offer is 1ltr coke free Large\", \n",
    "              \"Buy 2 large pizza offer is 1 ice-cream with browine free Monster\",\n",
    "              \"Buy 1 monster pizza offer is 1 small pizza and 500 ml coke free\")\n"
   ]
  },
  {
   "cell_type": "code",
   "execution_count": 61,
   "id": "4cef51f8",
   "metadata": {},
   "outputs": [
    {
     "name": "stdout",
     "output_type": "stream",
     "text": [
      "*****\n",
      "****\n",
      "***\n",
      "**\n",
      "*\n"
     ]
    }
   ],
   "source": [
    "#*****\n",
    "#****\n",
    "#***\n",
    "#**\n",
    "#*\n",
    "\n",
    "for i in range(5,0,-1):\n",
    "    for j in range(i):\n",
    "        print(\"*\",end=\"\")\n",
    "    print()\n",
    "              "
   ]
  },
  {
   "cell_type": "code",
   "execution_count": null,
   "id": "031bcbba",
   "metadata": {},
   "outputs": [],
   "source": []
  },
  {
   "cell_type": "code",
   "execution_count": null,
   "id": "31e614c3",
   "metadata": {},
   "outputs": [],
   "source": []
  }
 ],
 "metadata": {
  "kernelspec": {
   "display_name": "Python 3 (ipykernel)",
   "language": "python",
   "name": "python3"
  },
  "language_info": {
   "codemirror_mode": {
    "name": "ipython",
    "version": 3
   },
   "file_extension": ".py",
   "mimetype": "text/x-python",
   "name": "python",
   "nbconvert_exporter": "python",
   "pygments_lexer": "ipython3",
   "version": "3.11.3"
  }
 },
 "nbformat": 4,
 "nbformat_minor": 5
}
