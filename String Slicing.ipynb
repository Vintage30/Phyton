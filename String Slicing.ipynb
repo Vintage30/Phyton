{
 "cells": [
  {
   "cell_type": "code",
   "execution_count": 3,
   "id": "92020c28",
   "metadata": {},
   "outputs": [
    {
     "name": "stdout",
     "output_type": "stream",
     "text": [
      "Current String : Python Programming\n"
     ]
    }
   ],
   "source": [
    "a = \"Python Programming\"\n",
    "print(\"Current String :\",a)"
   ]
  },
  {
   "cell_type": "code",
   "execution_count": null,
   "id": "471283b0",
   "metadata": {},
   "outputs": [],
   "source": [
    "# P y t h o n P r o g r a m m i n g\n",
    "# 012 3 4 5 6 7 89 10 111213141561718"
   ]
  },
  {
   "cell_type": "code",
   "execution_count": 2,
   "id": "ed050651",
   "metadata": {},
   "outputs": [
    {
     "name": "stdout",
     "output_type": "stream",
     "text": [
      "P\n"
     ]
    }
   ],
   "source": [
    "print (a[0])"
   ]
  },
  {
   "cell_type": "code",
   "execution_count": 4,
   "id": "13601a78",
   "metadata": {},
   "outputs": [
    {
     "name": "stdout",
     "output_type": "stream",
     "text": [
      "Print Value between index 1 to 6\n",
      "ython \n"
     ]
    }
   ],
   "source": [
    "print (\"Print Value between index 1 to 6\")\n",
    "print(a[1:7])"
   ]
  },
  {
   "cell_type": "code",
   "execution_count": 12,
   "id": "6d5d0159",
   "metadata": {},
   "outputs": [
    {
     "name": "stdout",
     "output_type": "stream",
     "text": [
      "print value between 1 to 8 but alternate\n",
      "yhnP\n"
     ]
    }
   ],
   "source": [
    "print (\"print value between 1 to 8 but alternate\")\n",
    "print(a[1:9:2])\n",
    "       "
   ]
  },
  {
   "cell_type": "code",
   "execution_count": 13,
   "id": "054590b9",
   "metadata": {},
   "outputs": [
    {
     "name": "stdout",
     "output_type": "stream",
     "text": [
      "Print value between 0 to 18\n",
      "Python Programming\n"
     ]
    }
   ],
   "source": [
    "print (\"Print value between 0 to 18\")\n",
    "print (a[0:18])"
   ]
  },
  {
   "cell_type": "code",
   "execution_count": 15,
   "id": "b2d54bb1",
   "metadata": {},
   "outputs": [
    {
     "name": "stdout",
     "output_type": "stream",
     "text": [
      "Python Programming\n"
     ]
    }
   ],
   "source": [
    "print (a[0:])"
   ]
  },
  {
   "cell_type": "code",
   "execution_count": 16,
   "id": "2cac6b05",
   "metadata": {},
   "outputs": [
    {
     "name": "stdout",
     "output_type": "stream",
     "text": [
      "g\n"
     ]
    }
   ],
   "source": [
    "print (a[-1])"
   ]
  },
  {
   "cell_type": "code",
   "execution_count": null,
   "id": "ce434c15",
   "metadata": {},
   "outputs": [],
   "source": []
  }
 ],
 "metadata": {
  "kernelspec": {
   "display_name": "Python 3 (ipykernel)",
   "language": "python",
   "name": "python3"
  },
  "language_info": {
   "codemirror_mode": {
    "name": "ipython",
    "version": 3
   },
   "file_extension": ".py",
   "mimetype": "text/x-python",
   "name": "python",
   "nbconvert_exporter": "python",
   "pygments_lexer": "ipython3",
   "version": "3.11.3"
  }
 },
 "nbformat": 4,
 "nbformat_minor": 5
}
