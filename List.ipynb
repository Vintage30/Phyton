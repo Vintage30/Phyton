{
 "cells": [
  {
   "cell_type": "markdown",
   "id": "a0bfae1a",
   "metadata": {},
   "source": [
    "# How to create List?"
   ]
  },
  {
   "cell_type": "code",
   "execution_count": 14,
   "id": "32c71c52",
   "metadata": {},
   "outputs": [
    {
     "name": "stdout",
     "output_type": "stream",
     "text": [
      "[1, 2, 3, 4, 5, 10.5, 11.5, 12.5, 13.5, 'A', 'B', 'C', 'D', 'kERVIN']\n",
      "<class 'list'>\n"
     ]
    }
   ],
   "source": [
    "p1 = [1,2,3,4,5,10.5,11.5,12.5,13.5,'A','B','C','D',\"kERVIN\"]\n",
    "print(p1)\n",
    "print(type(p1))"
   ]
  },
  {
   "cell_type": "markdown",
   "id": "87e9071b",
   "metadata": {},
   "source": [
    "# List Slicing"
   ]
  },
  {
   "cell_type": "code",
   "execution_count": 15,
   "id": "f70b4a42",
   "metadata": {},
   "outputs": [
    {
     "name": "stdout",
     "output_type": "stream",
     "text": [
      "current list :  [1, 2, 3, 4, 5, 10.5, 11.5, 12.5, 13.5, 'A', 'B', 'C', 'D', 'kERVIN']\n",
      "size :  14\n",
      "***Print a Value Between 1 to 10***\n",
      "[2, 3, 4, 5, 10.5, 11.5, 12.5, 13.5, 'A', 'B']\n",
      "\n"
     ]
    }
   ],
   "source": [
    "print(\"current list : \", p1)\n",
    "print(\"size : \",len(p1))\n",
    "\n",
    "print(\"***Print a Value Between 1 to 10***\")\n",
    "print(p1[1:11])\n",
    "print()"
   ]
  },
  {
   "cell_type": "code",
   "execution_count": 17,
   "id": "4b9f874e",
   "metadata": {},
   "outputs": [
    {
     "name": "stdout",
     "output_type": "stream",
     "text": [
      "current list :  [1, 2, 3, 4, 5, 10.5, 11.5, 12.5, 13.5, 'A', 'B', 'C', 'D', 'kERVIN']\n",
      "***Print all the value after index 2***\n",
      "[4, 5, 10.5, 11.5, 12.5, 13.5, 'A', 'B', 'C', 'D', 'kERVIN']\n",
      "***Print alternate value between 1 to 10***\n",
      "[2, 4, 10.5, 12.5, 'A', 'C', 'kERVIN']\n",
      "***Print value on index 8***\n",
      "13.5\n",
      "***Print Last Value of your List***\n",
      "[14]\n",
      "\n"
     ]
    }
   ],
   "source": [
    "print(\"current list : \", p1)\n",
    "print(\"***Print all the value after index 2***\")\n",
    "print(p1[3:15])\n",
    "\n",
    "\n",
    "print(\"***Print alternate value between 1 to 10***\")\n",
    "print(p1[1:15:2])\n",
    "\n",
    "print(\"***Print value on index 8***\")\n",
    "print(p1[8])\n",
    "\n",
    "print(\"***Print Last Value of your List***\")\n",
    "print([14])\n",
    "print()"
   ]
  },
  {
   "cell_type": "markdown",
   "id": "0caaabba",
   "metadata": {},
   "source": [
    "# List Down"
   ]
  },
  {
   "cell_type": "code",
   "execution_count": 43,
   "id": "8c389552",
   "metadata": {},
   "outputs": [
    {
     "name": "stdout",
     "output_type": "stream",
     "text": [
      "current list :  [1, 3, 4, 5, 'Vin', 'Tanedo', 11.5, 12.5, 13.5, 'A', 'B', 'C', 'D', 'kERVIN', 'Mango']\n",
      "updated list [1, 3, 4, 5, 'Vin', 'Vin', 'Tanedo', 11.5, 12.5, 13.5, 'A', 'B', 'C', 'D', 'kERVIN', 'Mango']\n"
     ]
    }
   ],
   "source": [
    "print(\"current list : \", p1)\n",
    "p1.insert(5,\"Vin\")\n",
    "print(\"updated list\",p1)"
   ]
  },
  {
   "cell_type": "code",
   "execution_count": 22,
   "id": "aba2b998",
   "metadata": {},
   "outputs": [
    {
     "name": "stdout",
     "output_type": "stream",
     "text": [
      "current list :  [1, 2, 3, 4, 5, 'Vin', 10.5, 11.5, 12.5, 13.5, 'A', 'B', 'C', 'D', 'kERVIN']\n",
      "size :  15\n",
      "updated list : [1, 2, 3, 4, 5, 'Vin', 'Tanedo', 11.5, 12.5, 13.5, 'A', 'B', 'C', 'D', 'kERVIN']\n"
     ]
    }
   ],
   "source": [
    "print(\"current list : \", p1)\n",
    "print(\"size : \",len(p1))\n",
    "p1[6] = \"Tanedo\"\n",
    "print(\"updated list :\",p1)"
   ]
  },
  {
   "cell_type": "code",
   "execution_count": 54,
   "id": "c9585bf8",
   "metadata": {},
   "outputs": [
    {
     "name": "stdout",
     "output_type": "stream",
     "text": [
      "current list :  [1, 3, 4, 5, 'Vin', 'Vin', 'Tanedo', 11.5, 12.5, 13.5, 'A', 'B', 'C', 'kERVIN']\n",
      "size :  14\n",
      "updated list : [1, 3, 4, 5, 'Vin', 'Vin', 'Tanedo', 11.5, 12.5, 13.5, 'A', 'B', 'C', 'kERVIN', 'Mango']\n"
     ]
    }
   ],
   "source": [
    "print(\"current list : \", p1)\n",
    "print(\"size : \",len(p1))\n",
    "p1.append(\"Mango\")\n",
    "print(\"updated list :\",p1)"
   ]
  },
  {
   "cell_type": "markdown",
   "id": "f78743a1",
   "metadata": {},
   "source": [
    "# Remove Method"
   ]
  },
  {
   "cell_type": "code",
   "execution_count": 56,
   "id": "bc55c7b8",
   "metadata": {},
   "outputs": [
    {
     "name": "stdout",
     "output_type": "stream",
     "text": [
      "current list :  [1, 3, 4, 5, 'Vin', 'Vin', 'Tanedo', 11.5, 12.5, 13.5, 'A', 'B', 'C', 'kERVIN', 'Mango']\n",
      "size :  15\n",
      "updated list : [1, 4, 5, 'Vin', 'Vin', 'Tanedo', 11.5, 12.5, 13.5, 'A', 'B', 'C', 'kERVIN', 'Mango']\n",
      "size :  14\n"
     ]
    }
   ],
   "source": [
    "print(\"current list : \", p1)\n",
    "print(\"size : \",len(p1))\n",
    "p1.remove(3)\n",
    "print(\"updated list :\",p1)\n",
    "print(\"size : \",len(p1))"
   ]
  },
  {
   "cell_type": "code",
   "execution_count": 58,
   "id": "2db7ab06",
   "metadata": {},
   "outputs": [
    {
     "name": "stdout",
     "output_type": "stream",
     "text": [
      "current list :  [1, 4, 5, 'Vin', 'Vin', 'Tanedo', 11.5, 12.5, 13.5, 'A', 'B', 'C', 'kERVIN', 'Mango']\n",
      "size :  14\n",
      "updated list :  [1, 4, 5, 'Vin', 'Vin', 'Tanedo', 11.5, 12.5, 13.5, 'A', 'B', 'C', 'kERVIN']\n",
      "size :  13\n"
     ]
    }
   ],
   "source": [
    "print(\"current list : \", p1)\n",
    "print(\"size : \",len(p1))\n",
    "\n",
    "p1.pop()\n",
    "print(\"updated list : \", p1)\n",
    "print(\"size : \",len(p1))"
   ]
  },
  {
   "cell_type": "code",
   "execution_count": 59,
   "id": "6515ffd7",
   "metadata": {},
   "outputs": [
    {
     "name": "stdout",
     "output_type": "stream",
     "text": [
      "current list :  [1, 4, 5, 'Vin', 'Vin', 'Tanedo', 11.5, 12.5, 13.5, 'A', 'B', 'C', 'kERVIN']\n",
      "size :  13\n",
      "updated list :  [1, 4, 'Vin', 'Vin', 'Tanedo', 11.5, 12.5, 13.5, 'A', 'B', 'C', 'kERVIN']\n",
      "size :  12\n"
     ]
    }
   ],
   "source": [
    "print(\"current list : \", p1)\n",
    "print(\"size : \",len(p1))\n",
    "\n",
    "del p1[2]\n",
    "print(\"updated list : \", p1)\n",
    "print(\"size : \",len(p1))"
   ]
  },
  {
   "cell_type": "code",
   "execution_count": 60,
   "id": "ae6d8c7d",
   "metadata": {},
   "outputs": [
    {
     "name": "stdout",
     "output_type": "stream",
     "text": [
      "current list :  [1, 4, 'Vin', 'Vin', 'Tanedo', 11.5, 12.5, 13.5, 'A', 'B', 'C', 'kERVIN']\n",
      "size :  12\n",
      "updated list :  []\n",
      "size :  0\n"
     ]
    }
   ],
   "source": [
    "print(\"current list : \", p1)\n",
    "print(\"size : \",len(p1))\n",
    "\n",
    "p1.clear()\n",
    "print(\"updated list : \", p1)\n",
    "print(\"size : \",len(p1))"
   ]
  },
  {
   "cell_type": "markdown",
   "id": "312d3279",
   "metadata": {},
   "source": [
    "# Print all the value one by one using for Loop"
   ]
  },
  {
   "cell_type": "code",
   "execution_count": 62,
   "id": "fad39d37",
   "metadata": {},
   "outputs": [
    {
     "name": "stdout",
     "output_type": "stream",
     "text": [
      "apple  =  5\n",
      "mango  =  5\n",
      "kiwi  =  4\n",
      "orange  =  6\n"
     ]
    }
   ],
   "source": [
    "p2 = [\"apple\",\"mango\",\"kiwi\",\"orange\"]\n",
    "for i in p2:\n",
    "    print(i,\" = \",len(i))"
   ]
  },
  {
   "cell_type": "markdown",
   "id": "82def949",
   "metadata": {},
   "source": [
    "# Nested List"
   ]
  },
  {
   "cell_type": "code",
   "execution_count": 63,
   "id": "f1c5fa41",
   "metadata": {},
   "outputs": [
    {
     "name": "stdout",
     "output_type": "stream",
     "text": [
      "['Mobiles', ['Samsung', 'Oppo', 'Iphone', [20000, 25000, 30000]], 'Laptop', ['HP', 'Acer', 'Dell', [25000, 30000, 35000]], 'Clothes', ['Men', 'Women', [50, 100]]]\n"
     ]
    }
   ],
   "source": [
    "ecommerce = [\n",
    "    \"Mobiles\",[\"Samsung\",\"Oppo\",\"Iphone\",[20000,25000,30000]],\n",
    "    \"Laptop\",[\"HP\",\"Acer\",\"Dell\",[25000,30000,35000]],\n",
    "    \"Clothes\",[\"Men\",\"Women\",[50,100]]\n",
    "    \n",
    "]\n",
    "\n",
    "print(ecommerce)"
   ]
  },
  {
   "cell_type": "code",
   "execution_count": 75,
   "id": "ac188773",
   "metadata": {},
   "outputs": [
    {
     "name": "stdout",
     "output_type": "stream",
     "text": [
      "Samsung\n"
     ]
    }
   ],
   "source": [
    "print(ecommerce[1][0])\n"
   ]
  },
  {
   "cell_type": "markdown",
   "id": "38ca209b",
   "metadata": {},
   "source": [
    "# Student Application using List and List Methods"
   ]
  },
  {
   "cell_type": "code",
   "execution_count": null,
   "id": "6edf0424",
   "metadata": {},
   "outputs": [],
   "source": []
  }
 ],
 "metadata": {
  "kernelspec": {
   "display_name": "Python 3 (ipykernel)",
   "language": "python",
   "name": "python3"
  },
  "language_info": {
   "codemirror_mode": {
    "name": "ipython",
    "version": 3
   },
   "file_extension": ".py",
   "mimetype": "text/x-python",
   "name": "python",
   "nbconvert_exporter": "python",
   "pygments_lexer": "ipython3",
   "version": "3.11.3"
  }
 },
 "nbformat": 4,
 "nbformat_minor": 5
}
