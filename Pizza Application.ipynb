{
 "cells": [
  {
   "cell_type": "code",
   "execution_count": 21,
   "id": "09f1268a",
   "metadata": {},
   "outputs": [
    {
     "name": "stdout",
     "output_type": "stream",
     "text": [
      "Riding Four Wheels? : Y or N?  y\n",
      "Choose Pizza Size: XL for Monster, L for Large, M for Medium, S for Small : s\n",
      "How Many Pizza Do You Want? : 4\n",
      "Please get yor order: 4 Small Pizza and you will have free 1 500ML Coke.\n"
     ]
    }
   ],
   "source": [
    "fourwheel = input(\"Riding Four Wheels? : Y or N?  \").upper()\n",
    "if fourwheel == \"Y\":\n",
    "    Size = input(\"Choose Pizza Size: XL for Monster, L for Large, M for Medium, S for Small : \").upper()\n",
    "    if Size in ['XL', 'L', 'M', 'S']:\n",
    "        Quantity = input(\"How Many Pizza Do You Want? : \")\n",
    "        if Quantity.isdigit():\n",
    "            Quantity =int(Quantity)\n",
    "            if Size == \"XL\":\n",
    "                print(f\"Please get yor order: {Quantity} Monster Pizza and you will have free {Quantity} Small Pizza and {Quantity} 500ML Coke.\")\n",
    "            elif Size == \"L\" and Quantity >=2:\n",
    "                print(f\"Please get yor order: {Quantity} Large Pizza and you will have free {int(Quantity/2)} Ice Cream and {int(Quantity/2)} Brownie.\")\n",
    "            elif Size == \"M\" and Quantity >=3:\n",
    "                print(f\"Please get yor order: {Quantity} Medium Pizza and you will have free {int(Quantity/3)} 1Liter Coke.\")  \n",
    "            elif Size == \"S\" and Quantity >=4:\n",
    "                print(f\"Please get yor order: {Quantity} Small Pizza and you will have free {int(Quantity/4)} 500ML Coke.\")\n",
    "            else: \n",
    "                print(f\"Please get your order: {Quantity} {Size} Pizza.\")\n",
    "        else:\n",
    "            print(\"PLease input a valid number. Try again from the start.\")\n",
    "    else:\n",
    "        print(\"Please input a valid size and try again.\")\n",
    "else:\n",
    "    print(\"Sorry you are not allowed to buy.\")"
   ]
  },
  {
   "cell_type": "code",
   "execution_count": null,
   "id": "34954ec7",
   "metadata": {},
   "outputs": [],
   "source": []
  },
  {
   "cell_type": "code",
   "execution_count": null,
   "id": "fbd29dc4",
   "metadata": {},
   "outputs": [],
   "source": []
  },
  {
   "cell_type": "code",
   "execution_count": null,
   "id": "7c0212ca",
   "metadata": {},
   "outputs": [],
   "source": []
  }
 ],
 "metadata": {
  "kernelspec": {
   "display_name": "Python 3 (ipykernel)",
   "language": "python",
   "name": "python3"
  },
  "language_info": {
   "codemirror_mode": {
    "name": "ipython",
    "version": 3
   },
   "file_extension": ".py",
   "mimetype": "text/x-python",
   "name": "python",
   "nbconvert_exporter": "python",
   "pygments_lexer": "ipython3",
   "version": "3.11.3"
  }
 },
 "nbformat": 4,
 "nbformat_minor": 5
}
