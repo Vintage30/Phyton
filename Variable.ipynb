{
 "cells": [
  {
   "cell_type": "code",
   "execution_count": 5,
   "id": "5925ecf5",
   "metadata": {},
   "outputs": [
    {
     "name": "stdout",
     "output_type": "stream",
     "text": [
      "10\n",
      "<class 'int'>\n"
     ]
    }
   ],
   "source": [
    "a = 10\n",
    "print(a)\n",
    "print (type(a))"
   ]
  },
  {
   "cell_type": "code",
   "execution_count": 6,
   "id": "155d35ba",
   "metadata": {},
   "outputs": [
    {
     "name": "stdout",
     "output_type": "stream",
     "text": [
      "Bryan\n",
      "<class 'str'>\n"
     ]
    }
   ],
   "source": [
    "b = \"Bryan\"\n",
    "print(b)\n",
    "print(type(b))"
   ]
  },
  {
   "cell_type": "code",
   "execution_count": 3,
   "id": "8698f2ec",
   "metadata": {},
   "outputs": [],
   "source": [
    "#Run code == Ctrl+Enter\n",
    "#New Cell == Alt+Enter\n"
   ]
  },
  {
   "cell_type": "markdown",
   "id": "bc916758",
   "metadata": {},
   "source": [
    "Input from user"
   ]
  },
  {
   "cell_type": "code",
   "execution_count": 8,
   "id": "e894a457",
   "metadata": {},
   "outputs": [
    {
     "name": "stdout",
     "output_type": "stream",
     "text": [
      "Enter your Name :1111\n",
      "1111\n",
      "<class 'str'>\n"
     ]
    }
   ],
   "source": [
    "name = input(\"Enter your Name :\")\n",
    "print (name)\n",
    "print (type(name))"
   ]
  },
  {
   "cell_type": "code",
   "execution_count": 9,
   "id": "e8ed65c6",
   "metadata": {},
   "outputs": [
    {
     "name": "stdout",
     "output_type": "stream",
     "text": [
      "Value 1 :10\n",
      "Value 2 :20\n",
      "30\n"
     ]
    }
   ],
   "source": [
    "value1 =  int(input(\"Value 1 :\"))\n",
    "value2 = int(input(\"Value 2 :\"))\n",
    "result = value1+value2\n",
    "print(result)"
   ]
  },
  {
   "cell_type": "code",
   "execution_count": null,
   "id": "ced0a4cc",
   "metadata": {},
   "outputs": [],
   "source": []
  }
 ],
 "metadata": {
  "kernelspec": {
   "display_name": "Python 3 (ipykernel)",
   "language": "python",
   "name": "python3"
  },
  "language_info": {
   "codemirror_mode": {
    "name": "ipython",
    "version": 3
   },
   "file_extension": ".py",
   "mimetype": "text/x-python",
   "name": "python",
   "nbconvert_exporter": "python",
   "pygments_lexer": "ipython3",
   "version": "3.11.3"
  }
 },
 "nbformat": 4,
 "nbformat_minor": 5
}
